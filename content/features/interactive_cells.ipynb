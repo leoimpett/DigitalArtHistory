{
 "cells": [
  {
   "cell_type": "markdown",
   "metadata": {},
   "source": [
    "# Interactive code in your book\n",
    "\n",
    "Sometimes you'd rather let people interact with code *directly on the page*\n",
    "instead of sending them off to a Binder or a JupyterHub. There are currently\n",
    "a few ways to make this happen in Jupyter Book (both of which are experimental).\n",
    "\n",
    "This page describes how to bring interactivity to your book. Both of these\n",
    "tools use [**MyBinder**](https://mybinder.org) to provide a remote kernel.\n",
    "\n",
    "## Making your page inputs interactive\n",
    "\n",
    "✨**experimental**✨\n",
    "\n",
    "If you'd like to provide interactivity for your content without making your readers\n",
    "leave the Jupyter Book site, you can use a project called [Thebelab](https://github.com/minrk/thebelab).\n",
    "\n",
    "This provides you a button that, when clicked, will convert each code cell into\n",
    "an **interactive** cell that can be edited. It also adds a \"run\" button to each cell,\n",
    "and connects to a Binder kernel running in the cloud.\n",
    "As an alternative to pressing the Thebelab button at the top of the page, you \n",
    "can press the <img src=\"../images/logo/edit-button.svg\" alt=\"\" style=\"width: 20px; display: inline;\" /> symbol in the top right corner of each code cell to start the \n",
    "interactive mode.\n",
    "\n",
    "To add a Thebelab button to your Jupyter Book pages, use the following configuration:\n",
    "\n",
    "```yaml\n",
    "use_thebelab_button              : true  # If 'true', display a button to allow in-page running code cells with Thebelab\n",
    "```\n",
    "\n",
    "In addition, you can configure the Binder settings that are used to provide a kernel for\n",
    "Thebelab to run the code. These use the same configuration fields as the BinderHub interact\n",
    "buttons described above.\n",
    "\n",
    "For an example, click the **Thebelab** button above on this page, and run the code below."
   ]
  },
  {
   "cell_type": "code",
   "execution_count": 1,
   "metadata": {},
   "outputs": [
    {
     "data": {
      "text/plain": [
       "<matplotlib.collections.PathCollection at 0x7ff693dfc128>"
      ]
     },
     "execution_count": 1,
     "metadata": {},
     "output_type": "execute_result"
    }
   ],
   "source": [
    "import numpy as np\n",
    "import matplotlib.pyplot as plt\n",
    "plt.ion()\n",
    "\n",
    "x = np.arange(500)\n",
    "y = np.random.randn(500)\n",
    "\n",
    "fig, ax = plt.subplots()\n",
    "ax.scatter(x, y, c=y, s=x)"
   ]
  },
  {
   "cell_type": "markdown",
   "metadata": {},
   "source": [
    "## Using interactive widgets on your page\n",
    "\n",
    "✨**experimental**✨\n",
    "\n",
    "[**nbinteract**](https://www.nbinteract.com) is a tool for displaying interactive widgets in your\n",
    "static HTML page. It uses a Binder kernel to power the widgets, and displays output that your\n",
    "readers can interact with. For example, below we will show a simple matplotlib plot that can be made\n",
    "interactive with **ipywidgets**\n",
    "\n",
    "To add a **Show Widgets** button to your Jupyter Book pages, use the following configuration:\n",
    "\n",
    "```yaml\n",
    "use_show_widgets_button         : true  # If 'true', display a button to show widgets backed by a Binder kernel\n",
    "```\n",
    "\n",
    "Then, tell Jupyter Book that you want a cell to display a widget by **adding a tag** to the cell's\n",
    "metadata called `interactive`. When a reader clicks on the \"show widgets\" button, any cells\n",
    "with this tag will be run on Binder, and have their output widgets displayed underneath the cell.\n",
    "\n",
    "Here's an example of cell metadata that would trigger this behavior:\n",
    "\n",
    "```json\n",
    "{\n",
    "    \"tags\": [\n",
    "        \"interactive\",\n",
    "    ]\n",
    "}\n",
    "```\n",
    "\n",
    "You can configure the Binder settings that are used to provide a kernel to run the code.\n",
    "These use the same configuration fields as the BinderHub interact buttons described above.\n",
    "\n",
    "Clicking on \"show widgets\" should display a widget below. We've hidden the code cell that\n",
    "generates the widget by default (though you can always show it by clicking the button to\n",
    "the right!"
   ]
  },
  {
   "cell_type": "code",
   "execution_count": 2,
   "metadata": {
    "tags": [
     "hide_input",
     "interactive"
    ]
   },
   "outputs": [
    {
     "data": {
      "application/vnd.jupyter.widget-view+json": {
       "model_id": "7db97110f70e4753addb351e55df6af6",
       "version_major": 2,
       "version_minor": 0
      },
      "text/plain": [
       "interactive(children=(FloatSlider(value=1.0, description='s', max=2.0, min=0.1), Dropdown(description='cmap', …"
      ]
     },
     "metadata": {},
     "output_type": "display_data"
    }
   ],
   "source": [
    "from ipywidgets import interact, FloatSlider\n",
    "import numpy as np\n",
    "import matplotlib.pyplot as plt\n",
    "from IPython.display import display, HTML\n",
    "plt.ion()\n",
    "\n",
    "x = np.arange(500)\n",
    "y = np.random.randn(500)\n",
    "\n",
    "def update_plot_size(s, cmap):\n",
    "    if cmap == \"jet\":\n",
    "        display(HTML(\"<h2 style='color: red; margin: 0px auto;'>Nope</h2>\"))\n",
    "        return\n",
    "    fig, ax = plt.subplots()\n",
    "    ax.scatter(x, y, c=y, s=x*s, cmap=cmap)\n",
    "\n",
    "interact(update_plot_size, s=FloatSlider(value=1, min=.1, max=2, step=.1), cmap=['viridis', 'magma', 'jet']);"
   ]
  }
 ],
 "metadata": {
  "kernelspec": {
   "display_name": "Python 3",
   "language": "python",
   "name": "python3"
  },
  "language_info": {
   "codemirror_mode": {
    "name": "ipython",
    "version": 3
   },
   "file_extension": ".py",
   "mimetype": "text/x-python",
   "name": "python",
   "nbconvert_exporter": "python",
   "pygments_lexer": "ipython3",
   "version": "3.7.2"
  }
 },
 "nbformat": 4,
 "nbformat_minor": 2
}
