{
 "cells": [
  {
   "cell_type": "markdown",
   "metadata": {
    "collapsed": true
   },
   "source": [
    "# Digital Images in Cultural Heritage"
   ]
  },
  {
   "cell_type": "markdown",
   "metadata": {},
   "source": [
    "Digital images are used for all sorts of things in the cultural heritage sector, and in art history institutions more generally. They mostly fall under: \n",
    "- scanned books (especially rare books or archival material), e.g. https://wdl.org/en/item/19340/view/1/1/ \n",
    "- scanned photographs, generally in black-and-white, e.g. http://foto.biblhertz.it/exist/foto/obj08128731\n",
    "- born-digital photographs, especially of artworks owned by the institution, e.g. https://www.museodelprado.es/en/the-collection/art-work/the-glory/66149817-6f88-4e5f-a09a-81f63a84d145\n",
    "\n",
    "Fortunately, institutions are coming to a consensus that these kinds of digital images should be stored in the same kind of framework. This isn't a course about metadata or standards, but it's appropriate to mention one: the International Image Operability Framework, or IIIF. \n"
   ]
  },
  {
   "cell_type": "code",
   "execution_count": 3,
   "metadata": {},
   "outputs": [
    {
     "name": "stdout",
     "output_type": "stream",
     "text": [
      "Starting, kernel ready\n",
      "Loaded libraries\n"
     ]
    }
   ],
   "source": [
    "print('Starting, kernel ready')\n",
    "import numpy as np\n",
    "from matplotlib import pyplot as plt\n",
    "%matplotlib inline\n",
    "from skimage import io, transform, color\n",
    "import urllib.request\n",
    "import json \n",
    "print('Loaded libraries')"
   ]
  },
  {
   "cell_type": "markdown",
   "metadata": {
    "collapsed": true
   },
   "source": [
    "## International Image Interoperability Framework\n",
    "\n",
    "IIIF (generally pronounced 'triple-eye-eff') gives us a standard way to refer to digital images, including works of art, rare books, etc. Rather than a file format, it's actually a kind of client-server API; a standard way for users (ourselves, websites) to ask institutions (museums, universities, libraries, etc) for their images on the web. \n",
    "\n",
    "IIIF has a number of important (and useful) characteristics: \n",
    "- we can ask a IIIF server for any crop of an image, at different resolutions (from thumbnail to full-quality)\n",
    "- we can store annotations, not only about the image generally but about specific areas of the image\n",
    "- we can pass metadata along with the image, and keep (and pass on) the original image metadata from the institution which provided the image\n",
    "\n",
    "For instance from the website: \n",
    "https://www.wdl.org/en/item/19340/\n",
    "\n",
    "we get a link to a IIIF manifest: \n",
    "https://www.wdl.org/en/item/19340/iiif/manifest.json\n",
    "\n",
    "First, let's download that manifest:"
   ]
  },
  {
   "cell_type": "code",
   "execution_count": null,
   "metadata": {},
   "outputs": [],
   "source": [
    "with urllib.request.urlopen(\"https://www.wdl.org/en/item/19340/iiif/manifest.json\") as url:\n",
    "    data = json.loads(url.read().decode())\n",
    "    print(data)"
   ]
  },
  {
   "cell_type": "markdown",
   "metadata": {},
   "source": [
    "As we can see, the manifest includes all kinds of information about a host of different images (in this case, a whole scanned book). Let's grab the IIIF Canvases (in which we should find the actual images): "
   ]
  },
  {
   "cell_type": "code",
   "execution_count": null,
   "metadata": {},
   "outputs": [],
   "source": [
    "canvases = data['sequences'][0]['canvases']\n",
    "imurls = [canvas['images'][0]['resource']['@id'] for canvas in canvases]\n",
    "print(imurls[42])"
   ]
  },
  {
   "cell_type": "markdown",
   "metadata": {},
   "source": [
    "Now we have a correct URL for an image, let's try to download it and print it to the screen: "
   ]
  },
  {
   "cell_type": "code",
   "execution_count": null,
   "metadata": {},
   "outputs": [],
   "source": [
    "#Note that we can pass `io.imread` (from the `sklearn` library) an image URL (as in this case), as well as a filepath: \n",
    "testim = io.imread(imurls[42])\n",
    "plt.imshow(testim)"
   ]
  },
  {
   "cell_type": "markdown",
   "metadata": {},
   "source": [
    "Correct! This hasn't been a full intro to IIIF - see their website for (many) more details - but it should give you a general idea of how we extract the actual image data, as well as how to extract different bits of information in Python from `json` files on the internet - a common need for DH projects. "
   ]
  },
  {
   "cell_type": "code",
   "execution_count": null,
   "metadata": {},
   "outputs": [],
   "source": []
  }
 ],
 "metadata": {
  "kernelspec": {
   "display_name": "Python 3",
   "language": "python",
   "name": "python3"
  },
  "language_info": {
   "codemirror_mode": {
    "name": "ipython",
    "version": 3
   },
   "file_extension": ".py",
   "mimetype": "text/x-python",
   "name": "python",
   "nbconvert_exporter": "python",
   "pygments_lexer": "ipython3",
   "version": "3.7.3"
  }
 },
 "nbformat": 4,
 "nbformat_minor": 2
}
